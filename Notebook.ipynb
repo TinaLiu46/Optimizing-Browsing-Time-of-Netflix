{
 "cells": [
  {
   "cell_type": "code",
   "execution_count": 31,
   "metadata": {},
   "outputs": [],
   "source": [
    "import pandas as pd\n",
    "import numpy as np\n",
    "import matplotlib.pyplot as plt\n",
    "import seaborn as sns"
   ]
  },
  {
   "cell_type": "markdown",
   "metadata": {
    "pycharm": {
     "name": "#%% md\n"
    }
   },
   "source": [
    "# Creating Condition Matrix"
   ]
  },
  {
   "cell_type": "code",
   "execution_count": 2,
   "metadata": {
    "pycharm": {
     "name": "#%%\n"
    }
   },
   "outputs": [],
   "source": [
    "prev_len = [30, 60, 90]\n",
    "prev_type = ['TT', 'AC']\n",
    "match_score = [70, 85, 95]\n",
    "tile_size = [0.2, 0.4]"
   ]
  },
  {
   "cell_type": "code",
   "execution_count": 3,
   "metadata": {
    "pycharm": {
     "name": "#%%\n"
    }
   },
   "outputs": [],
   "source": [
    "conditions = []\n",
    "for lenth in prev_len:\n",
    "    obs = []\n",
    "    for type in prev_type:\n",
    "        for score in match_score:\n",
    "            for size in tile_size:\n",
    "                condition = [lenth, type, score, size]\n",
    "                conditions.append(condition)\n"
   ]
  },
  {
   "cell_type": "code",
   "execution_count": 4,
   "metadata": {
    "pycharm": {
     "name": "#%%\n"
    }
   },
   "outputs": [
    {
     "data": {
      "text/plain": [
       "36"
      ]
     },
     "execution_count": 4,
     "metadata": {},
     "output_type": "execute_result"
    }
   ],
   "source": [
    "len(conditions)"
   ]
  },
  {
   "cell_type": "code",
   "execution_count": 5,
   "metadata": {
    "pycharm": {
     "name": "#%%\n"
    }
   },
   "outputs": [],
   "source": [
    "cm = pd.DataFrame(conditions, columns=['Prev.Length', 'Prev.Type',\n",
    "                                        'Match.Score', 'Tile.Size'])"
   ]
  },
  {
   "cell_type": "code",
   "execution_count": 6,
   "metadata": {
    "pycharm": {
     "name": "#%%\n"
    }
   },
   "outputs": [
    {
     "data": {
      "text/html": [
       "<div>\n",
       "<style scoped>\n",
       "    .dataframe tbody tr th:only-of-type {\n",
       "        vertical-align: middle;\n",
       "    }\n",
       "\n",
       "    .dataframe tbody tr th {\n",
       "        vertical-align: top;\n",
       "    }\n",
       "\n",
       "    .dataframe thead th {\n",
       "        text-align: right;\n",
       "    }\n",
       "</style>\n",
       "<table border=\"1\" class=\"dataframe\">\n",
       "  <thead>\n",
       "    <tr style=\"text-align: right;\">\n",
       "      <th></th>\n",
       "      <th>Prev.Length</th>\n",
       "      <th>Prev.Type</th>\n",
       "      <th>Match.Score</th>\n",
       "      <th>Tile.Size</th>\n",
       "    </tr>\n",
       "  </thead>\n",
       "  <tbody>\n",
       "    <tr>\n",
       "      <th>0</th>\n",
       "      <td>30</td>\n",
       "      <td>TT</td>\n",
       "      <td>70</td>\n",
       "      <td>0.2</td>\n",
       "    </tr>\n",
       "    <tr>\n",
       "      <th>1</th>\n",
       "      <td>30</td>\n",
       "      <td>TT</td>\n",
       "      <td>70</td>\n",
       "      <td>0.4</td>\n",
       "    </tr>\n",
       "    <tr>\n",
       "      <th>2</th>\n",
       "      <td>30</td>\n",
       "      <td>TT</td>\n",
       "      <td>85</td>\n",
       "      <td>0.2</td>\n",
       "    </tr>\n",
       "    <tr>\n",
       "      <th>3</th>\n",
       "      <td>30</td>\n",
       "      <td>TT</td>\n",
       "      <td>85</td>\n",
       "      <td>0.4</td>\n",
       "    </tr>\n",
       "    <tr>\n",
       "      <th>4</th>\n",
       "      <td>30</td>\n",
       "      <td>TT</td>\n",
       "      <td>95</td>\n",
       "      <td>0.2</td>\n",
       "    </tr>\n",
       "    <tr>\n",
       "      <th>5</th>\n",
       "      <td>30</td>\n",
       "      <td>TT</td>\n",
       "      <td>95</td>\n",
       "      <td>0.4</td>\n",
       "    </tr>\n",
       "    <tr>\n",
       "      <th>6</th>\n",
       "      <td>30</td>\n",
       "      <td>AC</td>\n",
       "      <td>70</td>\n",
       "      <td>0.2</td>\n",
       "    </tr>\n",
       "    <tr>\n",
       "      <th>7</th>\n",
       "      <td>30</td>\n",
       "      <td>AC</td>\n",
       "      <td>70</td>\n",
       "      <td>0.4</td>\n",
       "    </tr>\n",
       "    <tr>\n",
       "      <th>8</th>\n",
       "      <td>30</td>\n",
       "      <td>AC</td>\n",
       "      <td>85</td>\n",
       "      <td>0.2</td>\n",
       "    </tr>\n",
       "    <tr>\n",
       "      <th>9</th>\n",
       "      <td>30</td>\n",
       "      <td>AC</td>\n",
       "      <td>85</td>\n",
       "      <td>0.4</td>\n",
       "    </tr>\n",
       "    <tr>\n",
       "      <th>10</th>\n",
       "      <td>30</td>\n",
       "      <td>AC</td>\n",
       "      <td>95</td>\n",
       "      <td>0.2</td>\n",
       "    </tr>\n",
       "    <tr>\n",
       "      <th>11</th>\n",
       "      <td>30</td>\n",
       "      <td>AC</td>\n",
       "      <td>95</td>\n",
       "      <td>0.4</td>\n",
       "    </tr>\n",
       "    <tr>\n",
       "      <th>12</th>\n",
       "      <td>60</td>\n",
       "      <td>TT</td>\n",
       "      <td>70</td>\n",
       "      <td>0.2</td>\n",
       "    </tr>\n",
       "    <tr>\n",
       "      <th>13</th>\n",
       "      <td>60</td>\n",
       "      <td>TT</td>\n",
       "      <td>70</td>\n",
       "      <td>0.4</td>\n",
       "    </tr>\n",
       "    <tr>\n",
       "      <th>14</th>\n",
       "      <td>60</td>\n",
       "      <td>TT</td>\n",
       "      <td>85</td>\n",
       "      <td>0.2</td>\n",
       "    </tr>\n",
       "    <tr>\n",
       "      <th>15</th>\n",
       "      <td>60</td>\n",
       "      <td>TT</td>\n",
       "      <td>85</td>\n",
       "      <td>0.4</td>\n",
       "    </tr>\n",
       "    <tr>\n",
       "      <th>16</th>\n",
       "      <td>60</td>\n",
       "      <td>TT</td>\n",
       "      <td>95</td>\n",
       "      <td>0.2</td>\n",
       "    </tr>\n",
       "    <tr>\n",
       "      <th>17</th>\n",
       "      <td>60</td>\n",
       "      <td>TT</td>\n",
       "      <td>95</td>\n",
       "      <td>0.4</td>\n",
       "    </tr>\n",
       "    <tr>\n",
       "      <th>18</th>\n",
       "      <td>60</td>\n",
       "      <td>AC</td>\n",
       "      <td>70</td>\n",
       "      <td>0.2</td>\n",
       "    </tr>\n",
       "    <tr>\n",
       "      <th>19</th>\n",
       "      <td>60</td>\n",
       "      <td>AC</td>\n",
       "      <td>70</td>\n",
       "      <td>0.4</td>\n",
       "    </tr>\n",
       "    <tr>\n",
       "      <th>20</th>\n",
       "      <td>60</td>\n",
       "      <td>AC</td>\n",
       "      <td>85</td>\n",
       "      <td>0.2</td>\n",
       "    </tr>\n",
       "    <tr>\n",
       "      <th>21</th>\n",
       "      <td>60</td>\n",
       "      <td>AC</td>\n",
       "      <td>85</td>\n",
       "      <td>0.4</td>\n",
       "    </tr>\n",
       "    <tr>\n",
       "      <th>22</th>\n",
       "      <td>60</td>\n",
       "      <td>AC</td>\n",
       "      <td>95</td>\n",
       "      <td>0.2</td>\n",
       "    </tr>\n",
       "    <tr>\n",
       "      <th>23</th>\n",
       "      <td>60</td>\n",
       "      <td>AC</td>\n",
       "      <td>95</td>\n",
       "      <td>0.4</td>\n",
       "    </tr>\n",
       "    <tr>\n",
       "      <th>24</th>\n",
       "      <td>90</td>\n",
       "      <td>TT</td>\n",
       "      <td>70</td>\n",
       "      <td>0.2</td>\n",
       "    </tr>\n",
       "    <tr>\n",
       "      <th>25</th>\n",
       "      <td>90</td>\n",
       "      <td>TT</td>\n",
       "      <td>70</td>\n",
       "      <td>0.4</td>\n",
       "    </tr>\n",
       "    <tr>\n",
       "      <th>26</th>\n",
       "      <td>90</td>\n",
       "      <td>TT</td>\n",
       "      <td>85</td>\n",
       "      <td>0.2</td>\n",
       "    </tr>\n",
       "    <tr>\n",
       "      <th>27</th>\n",
       "      <td>90</td>\n",
       "      <td>TT</td>\n",
       "      <td>85</td>\n",
       "      <td>0.4</td>\n",
       "    </tr>\n",
       "    <tr>\n",
       "      <th>28</th>\n",
       "      <td>90</td>\n",
       "      <td>TT</td>\n",
       "      <td>95</td>\n",
       "      <td>0.2</td>\n",
       "    </tr>\n",
       "    <tr>\n",
       "      <th>29</th>\n",
       "      <td>90</td>\n",
       "      <td>TT</td>\n",
       "      <td>95</td>\n",
       "      <td>0.4</td>\n",
       "    </tr>\n",
       "    <tr>\n",
       "      <th>30</th>\n",
       "      <td>90</td>\n",
       "      <td>AC</td>\n",
       "      <td>70</td>\n",
       "      <td>0.2</td>\n",
       "    </tr>\n",
       "    <tr>\n",
       "      <th>31</th>\n",
       "      <td>90</td>\n",
       "      <td>AC</td>\n",
       "      <td>70</td>\n",
       "      <td>0.4</td>\n",
       "    </tr>\n",
       "    <tr>\n",
       "      <th>32</th>\n",
       "      <td>90</td>\n",
       "      <td>AC</td>\n",
       "      <td>85</td>\n",
       "      <td>0.2</td>\n",
       "    </tr>\n",
       "    <tr>\n",
       "      <th>33</th>\n",
       "      <td>90</td>\n",
       "      <td>AC</td>\n",
       "      <td>85</td>\n",
       "      <td>0.4</td>\n",
       "    </tr>\n",
       "    <tr>\n",
       "      <th>34</th>\n",
       "      <td>90</td>\n",
       "      <td>AC</td>\n",
       "      <td>95</td>\n",
       "      <td>0.2</td>\n",
       "    </tr>\n",
       "    <tr>\n",
       "      <th>35</th>\n",
       "      <td>90</td>\n",
       "      <td>AC</td>\n",
       "      <td>95</td>\n",
       "      <td>0.4</td>\n",
       "    </tr>\n",
       "  </tbody>\n",
       "</table>\n",
       "</div>"
      ],
      "text/plain": [
       "    Prev.Length Prev.Type  Match.Score  Tile.Size\n",
       "0            30        TT           70        0.2\n",
       "1            30        TT           70        0.4\n",
       "2            30        TT           85        0.2\n",
       "3            30        TT           85        0.4\n",
       "4            30        TT           95        0.2\n",
       "5            30        TT           95        0.4\n",
       "6            30        AC           70        0.2\n",
       "7            30        AC           70        0.4\n",
       "8            30        AC           85        0.2\n",
       "9            30        AC           85        0.4\n",
       "10           30        AC           95        0.2\n",
       "11           30        AC           95        0.4\n",
       "12           60        TT           70        0.2\n",
       "13           60        TT           70        0.4\n",
       "14           60        TT           85        0.2\n",
       "15           60        TT           85        0.4\n",
       "16           60        TT           95        0.2\n",
       "17           60        TT           95        0.4\n",
       "18           60        AC           70        0.2\n",
       "19           60        AC           70        0.4\n",
       "20           60        AC           85        0.2\n",
       "21           60        AC           85        0.4\n",
       "22           60        AC           95        0.2\n",
       "23           60        AC           95        0.4\n",
       "24           90        TT           70        0.2\n",
       "25           90        TT           70        0.4\n",
       "26           90        TT           85        0.2\n",
       "27           90        TT           85        0.4\n",
       "28           90        TT           95        0.2\n",
       "29           90        TT           95        0.4\n",
       "30           90        AC           70        0.2\n",
       "31           90        AC           70        0.4\n",
       "32           90        AC           85        0.2\n",
       "33           90        AC           85        0.4\n",
       "34           90        AC           95        0.2\n",
       "35           90        AC           95        0.4"
      ]
     },
     "execution_count": 6,
     "metadata": {},
     "output_type": "execute_result"
    }
   ],
   "source": [
    "cm"
   ]
  },
  {
   "cell_type": "code",
   "execution_count": 7,
   "metadata": {
    "pycharm": {
     "name": "#%%\n"
    }
   },
   "outputs": [],
   "source": [
    "cm.to_csv('THIRTEEN.csv', index=False)"
   ]
  },
  {
   "cell_type": "markdown",
   "metadata": {
    "pycharm": {
     "name": "#%% md\n"
    }
   },
   "source": [
    "# Factorial Experiments to Select Significant Design Factors"
   ]
  },
  {
   "cell_type": "code",
   "execution_count": 8,
   "metadata": {
    "pycharm": {
     "name": "#%%\n"
    }
   },
   "outputs": [],
   "source": [
    "df = pd.read_csv('RESULTS_THIRTEEN_2022-01-17.csv')"
   ]
  },
  {
   "cell_type": "code",
   "execution_count": 9,
   "metadata": {
    "pycharm": {
     "name": "#%%\n"
    }
   },
   "outputs": [
    {
     "data": {
      "text/html": [
       "<div>\n",
       "<style scoped>\n",
       "    .dataframe tbody tr th:only-of-type {\n",
       "        vertical-align: middle;\n",
       "    }\n",
       "\n",
       "    .dataframe tbody tr th {\n",
       "        vertical-align: top;\n",
       "    }\n",
       "\n",
       "    .dataframe thead th {\n",
       "        text-align: right;\n",
       "    }\n",
       "</style>\n",
       "<table border=\"1\" class=\"dataframe\">\n",
       "  <thead>\n",
       "    <tr style=\"text-align: right;\">\n",
       "      <th></th>\n",
       "      <th>Prev.Length</th>\n",
       "      <th>Prev.Type</th>\n",
       "      <th>Match.Score</th>\n",
       "      <th>Tile.Size</th>\n",
       "      <th>Browse.Time</th>\n",
       "    </tr>\n",
       "  </thead>\n",
       "  <tbody>\n",
       "    <tr>\n",
       "      <th>0</th>\n",
       "      <td>30</td>\n",
       "      <td>TT</td>\n",
       "      <td>70</td>\n",
       "      <td>0.2</td>\n",
       "      <td>14.145002</td>\n",
       "    </tr>\n",
       "    <tr>\n",
       "      <th>1</th>\n",
       "      <td>30</td>\n",
       "      <td>TT</td>\n",
       "      <td>70</td>\n",
       "      <td>0.4</td>\n",
       "      <td>16.485194</td>\n",
       "    </tr>\n",
       "    <tr>\n",
       "      <th>2</th>\n",
       "      <td>30</td>\n",
       "      <td>TT</td>\n",
       "      <td>85</td>\n",
       "      <td>0.2</td>\n",
       "      <td>16.296595</td>\n",
       "    </tr>\n",
       "    <tr>\n",
       "      <th>3</th>\n",
       "      <td>30</td>\n",
       "      <td>TT</td>\n",
       "      <td>85</td>\n",
       "      <td>0.4</td>\n",
       "      <td>14.681242</td>\n",
       "    </tr>\n",
       "    <tr>\n",
       "      <th>4</th>\n",
       "      <td>30</td>\n",
       "      <td>TT</td>\n",
       "      <td>95</td>\n",
       "      <td>0.2</td>\n",
       "      <td>14.332062</td>\n",
       "    </tr>\n",
       "  </tbody>\n",
       "</table>\n",
       "</div>"
      ],
      "text/plain": [
       "   Prev.Length Prev.Type  Match.Score  Tile.Size  Browse.Time\n",
       "0           30        TT           70        0.2    14.145002\n",
       "1           30        TT           70        0.4    16.485194\n",
       "2           30        TT           85        0.2    16.296595\n",
       "3           30        TT           85        0.4    14.681242\n",
       "4           30        TT           95        0.2    14.332062"
      ]
     },
     "execution_count": 9,
     "metadata": {},
     "output_type": "execute_result"
    }
   ],
   "source": [
    "df.head()"
   ]
  },
  {
   "cell_type": "code",
   "execution_count": 10,
   "metadata": {
    "pycharm": {
     "name": "#%%\n"
    }
   },
   "outputs": [],
   "source": [
    "import statsmodels.formula.api as smf\n",
    "from scipy import stats"
   ]
  },
  {
   "cell_type": "code",
   "execution_count": 11,
   "metadata": {
    "pycharm": {
     "name": "#%%\n"
    }
   },
   "outputs": [
    {
     "data": {
      "text/plain": [
       "Index(['Prev_Length', 'Prev_Type', 'Match_Score', 'Tile_Size', 'Browse_Time'], dtype='object')"
      ]
     },
     "execution_count": 11,
     "metadata": {},
     "output_type": "execute_result"
    }
   ],
   "source": [
    "# Rename columns\n",
    "df1 = df.rename(columns={'Prev.Type': 'Prev_Type', 'Prev.Length': 'Prev_Length', 'Match.Score': 'Match_Score',\n",
    "                         'Tile.Size': 'Tile_Size', 'Browse.Time': 'Browse_Time'})\n",
    "df1.columns"
   ]
  },
  {
   "cell_type": "markdown",
   "metadata": {
    "pycharm": {
     "name": "#%% md\n"
    }
   },
   "source": [
    "## Full Model"
   ]
  },
  {
   "cell_type": "code",
   "execution_count": 12,
   "metadata": {
    "pycharm": {
     "name": "#%%\n"
    }
   },
   "outputs": [
    {
     "name": "stdout",
     "output_type": "stream",
     "text": [
      "                            OLS Regression Results                            \n",
      "==============================================================================\n",
      "Dep. Variable:            Browse_Time   R-squared:                       0.908\n",
      "Model:                            OLS   Adj. R-squared:                  0.907\n",
      "Method:                 Least Squares   F-statistic:                     1006.\n",
      "Date:                Tue, 18 Jan 2022   Prob (F-statistic):               0.00\n",
      "Time:                        18:14:24   Log-Likelihood:                -5102.7\n",
      "No. Observations:                3600   AIC:                         1.028e+04\n",
      "Df Residuals:                    3564   BIC:                         1.050e+04\n",
      "Df Model:                          35                                         \n",
      "Covariance Type:            nonrobust                                         \n",
      "====================================================================================================================================================\n",
      "                                                                                       coef    std err          t      P>|t|      [0.025      0.975]\n",
      "----------------------------------------------------------------------------------------------------------------------------------------------------\n",
      "Intercept                                                                           19.9062      0.100    198.363      0.000      19.709      20.103\n",
      "C(Prev_Length)[T.60]                                                                -2.9948      0.142    -21.102      0.000      -3.273      -2.717\n",
      "C(Prev_Length)[T.90]                                                                -2.4548      0.142    -17.297      0.000      -2.733      -2.177\n",
      "C(Prev_Type)[T.TT]                                                                  -4.8866      0.142    -34.432      0.000      -5.165      -4.608\n",
      "C(Match_Score)[T.85]                                                                 0.2441      0.142      1.720      0.086      -0.034       0.522\n",
      "C(Match_Score)[T.95]                                                                 1.2317      0.142      8.679      0.000       0.953       1.510\n",
      "C(Tile_Size)[T.0.4]                                                                  0.1145      0.142      0.807      0.420      -0.164       0.393\n",
      "C(Prev_Length)[T.60]:C(Prev_Type)[T.TT]                                             -0.1809      0.201     -0.901      0.367      -0.574       0.213\n",
      "C(Prev_Length)[T.90]:C(Prev_Type)[T.TT]                                             -0.4028      0.201     -2.007      0.045      -0.796      -0.009\n",
      "C(Prev_Length)[T.60]:C(Match_Score)[T.85]                                           -0.9617      0.201     -4.792      0.000      -1.355      -0.568\n",
      "C(Prev_Length)[T.90]:C(Match_Score)[T.85]                                            1.3844      0.201      6.898      0.000       0.991       1.778\n",
      "C(Prev_Length)[T.60]:C(Match_Score)[T.95]                                            0.5100      0.201      2.541      0.011       0.117       0.904\n",
      "C(Prev_Length)[T.90]:C(Match_Score)[T.95]                                            3.5655      0.201     17.765      0.000       3.172       3.959\n",
      "C(Prev_Type)[T.TT]:C(Match_Score)[T.85]                                             -0.0263      0.201     -0.131      0.896      -0.420       0.367\n",
      "C(Prev_Type)[T.TT]:C(Match_Score)[T.95]                                             -0.0662      0.201     -0.330      0.742      -0.460       0.327\n",
      "C(Prev_Length)[T.60]:C(Tile_Size)[T.0.4]                                            -0.0878      0.201     -0.437      0.662      -0.481       0.306\n",
      "C(Prev_Length)[T.90]:C(Tile_Size)[T.0.4]                                            -0.2658      0.201     -1.324      0.186      -0.659       0.128\n",
      "C(Prev_Type)[T.TT]:C(Tile_Size)[T.0.4]                                               0.0480      0.201      0.239      0.811      -0.346       0.441\n",
      "C(Match_Score)[T.85]:C(Tile_Size)[T.0.4]                                             0.0347      0.201      0.173      0.863      -0.359       0.428\n",
      "C(Match_Score)[T.95]:C(Tile_Size)[T.0.4]                                            -0.2386      0.201     -1.189      0.235      -0.632       0.155\n",
      "C(Prev_Length)[T.60]:C(Prev_Type)[T.TT]:C(Match_Score)[T.85]                         0.0560      0.284      0.197      0.844      -0.501       0.612\n",
      "C(Prev_Length)[T.90]:C(Prev_Type)[T.TT]:C(Match_Score)[T.85]                         0.2165      0.284      0.763      0.446      -0.340       0.773\n",
      "C(Prev_Length)[T.60]:C(Prev_Type)[T.TT]:C(Match_Score)[T.95]                        -0.0138      0.284     -0.049      0.961      -0.570       0.543\n",
      "C(Prev_Length)[T.90]:C(Prev_Type)[T.TT]:C(Match_Score)[T.95]                         0.3321      0.284      1.170      0.242      -0.224       0.889\n",
      "C(Prev_Length)[T.60]:C(Prev_Type)[T.TT]:C(Tile_Size)[T.0.4]                         -0.0398      0.284     -0.140      0.888      -0.596       0.517\n",
      "C(Prev_Length)[T.90]:C(Prev_Type)[T.TT]:C(Tile_Size)[T.0.4]                          0.2558      0.284      0.901      0.368      -0.301       0.812\n",
      "C(Prev_Length)[T.60]:C(Match_Score)[T.85]:C(Tile_Size)[T.0.4]                       -0.2440      0.284     -0.860      0.390      -0.801       0.312\n",
      "C(Prev_Length)[T.90]:C(Match_Score)[T.85]:C(Tile_Size)[T.0.4]                        0.0654      0.284      0.230      0.818      -0.491       0.622\n",
      "C(Prev_Length)[T.60]:C(Match_Score)[T.95]:C(Tile_Size)[T.0.4]                        0.0614      0.284      0.216      0.829      -0.495       0.618\n",
      "C(Prev_Length)[T.90]:C(Match_Score)[T.95]:C(Tile_Size)[T.0.4]                        0.3010      0.284      1.060      0.289      -0.256       0.857\n",
      "C(Prev_Type)[T.TT]:C(Match_Score)[T.85]:C(Tile_Size)[T.0.4]                         -0.1849      0.284     -0.651      0.515      -0.741       0.372\n",
      "C(Prev_Type)[T.TT]:C(Match_Score)[T.95]:C(Tile_Size)[T.0.4]                         -0.0177      0.284     -0.062      0.950      -0.574       0.539\n",
      "C(Prev_Length)[T.60]:C(Prev_Type)[T.TT]:C(Match_Score)[T.85]:C(Tile_Size)[T.0.4]     0.5067      0.401      1.262      0.207      -0.280       1.294\n",
      "C(Prev_Length)[T.90]:C(Prev_Type)[T.TT]:C(Match_Score)[T.85]:C(Tile_Size)[T.0.4]    -0.0384      0.401     -0.096      0.924      -0.825       0.749\n",
      "C(Prev_Length)[T.60]:C(Prev_Type)[T.TT]:C(Match_Score)[T.95]:C(Tile_Size)[T.0.4]     0.4484      0.401      1.117      0.264      -0.339       1.235\n",
      "C(Prev_Length)[T.90]:C(Prev_Type)[T.TT]:C(Match_Score)[T.95]:C(Tile_Size)[T.0.4]    -0.1639      0.401     -0.408      0.683      -0.951       0.623\n",
      "==============================================================================\n",
      "Omnibus:                        1.254   Durbin-Watson:                   2.023\n",
      "Prob(Omnibus):                  0.534   Jarque-Bera (JB):                1.262\n",
      "Skew:                          -0.004   Prob(JB):                        0.532\n",
      "Kurtosis:                       2.909   Cond. No.                         95.5\n",
      "==============================================================================\n",
      "\n",
      "Notes:\n",
      "[1] Standard Errors assume that the covariance matrix of the errors is correctly specified.\n"
     ]
    }
   ],
   "source": [
    "model = smf.ols('Browse_Time ~ C(Prev_Length) * C(Prev_Type) * C(Match_Score) * C(Tile_Size)', data = df1)\n",
    "model = model.fit()\n",
    "print(model.summary())"
   ]
  },
  {
   "cell_type": "code",
   "execution_count": 13,
   "metadata": {
    "pycharm": {
     "name": "#%%\n"
    }
   },
   "outputs": [],
   "source": [
    "import statsmodels.api as sm"
   ]
  },
  {
   "cell_type": "markdown",
   "metadata": {
    "pycharm": {
     "name": "#%% md\n"
    }
   },
   "source": [
    "## Full Model vs Reduced Model without 4-Factor Interaction Terms"
   ]
  },
  {
   "cell_type": "code",
   "execution_count": 14,
   "metadata": {
    "pycharm": {
     "name": "#%%\n"
    }
   },
   "outputs": [
    {
     "data": {
      "text/html": [
       "<div>\n",
       "<style scoped>\n",
       "    .dataframe tbody tr th:only-of-type {\n",
       "        vertical-align: middle;\n",
       "    }\n",
       "\n",
       "    .dataframe tbody tr th {\n",
       "        vertical-align: top;\n",
       "    }\n",
       "\n",
       "    .dataframe thead th {\n",
       "        text-align: right;\n",
       "    }\n",
       "</style>\n",
       "<table border=\"1\" class=\"dataframe\">\n",
       "  <thead>\n",
       "    <tr style=\"text-align: right;\">\n",
       "      <th></th>\n",
       "      <th>df_resid</th>\n",
       "      <th>ssr</th>\n",
       "      <th>df_diff</th>\n",
       "      <th>ss_diff</th>\n",
       "      <th>F</th>\n",
       "      <th>Pr(&gt;F)</th>\n",
       "    </tr>\n",
       "  </thead>\n",
       "  <tbody>\n",
       "    <tr>\n",
       "      <th>0</th>\n",
       "      <td>3570.0</td>\n",
       "      <td>3595.468620</td>\n",
       "      <td>0.0</td>\n",
       "      <td>NaN</td>\n",
       "      <td>NaN</td>\n",
       "      <td>NaN</td>\n",
       "    </tr>\n",
       "    <tr>\n",
       "      <th>1</th>\n",
       "      <td>3564.0</td>\n",
       "      <td>3589.155148</td>\n",
       "      <td>6.0</td>\n",
       "      <td>6.313472</td>\n",
       "      <td>1.044871</td>\n",
       "      <td>0.39393</td>\n",
       "    </tr>\n",
       "  </tbody>\n",
       "</table>\n",
       "</div>"
      ],
      "text/plain": [
       "   df_resid          ssr  df_diff   ss_diff         F   Pr(>F)\n",
       "0    3570.0  3595.468620      0.0       NaN       NaN      NaN\n",
       "1    3564.0  3589.155148      6.0  6.313472  1.044871  0.39393"
      ]
     },
     "execution_count": 14,
     "metadata": {},
     "output_type": "execute_result"
    }
   ],
   "source": [
    "model_red1 = smf.ols('Browse_Time ~ C(Prev_Length) * C(Prev_Type) * C(Match_Score) + C(Tile_Size):C(Prev_Length) + C(Tile_Size):C(Prev_Type) + C(Tile_Size):C(Match_Score) + C(Tile_Size):C(Prev_Length):C(Match_Score) + C(Tile_Size):C(Match_Score):C(Prev_Type)' , data=df1).fit()\n",
    "sm.stats.anova_lm(model_red1, model)"
   ]
  },
  {
   "cell_type": "markdown",
   "metadata": {
    "pycharm": {
     "name": "#%% md\n"
    }
   },
   "source": [
    "Reduced model without \"Tile_Size\" is better than full model"
   ]
  },
  {
   "cell_type": "code",
   "execution_count": 15,
   "metadata": {
    "pycharm": {
     "name": "#%%\n"
    }
   },
   "outputs": [
    {
     "name": "stdout",
     "output_type": "stream",
     "text": [
      "                            OLS Regression Results                            \n",
      "==============================================================================\n",
      "Dep. Variable:            Browse_Time   R-squared:                       0.908\n",
      "Model:                            OLS   Adj. R-squared:                  0.907\n",
      "Method:                 Least Squares   F-statistic:                     1214.\n",
      "Date:                Tue, 18 Jan 2022   Prob (F-statistic):               0.00\n",
      "Time:                        18:14:28   Log-Likelihood:                -5105.9\n",
      "No. Observations:                3600   AIC:                         1.027e+04\n",
      "Df Residuals:                    3570   BIC:                         1.046e+04\n",
      "Df Model:                          29                                         \n",
      "Covariance Type:            nonrobust                                         \n",
      "=================================================================================================================================\n",
      "                                                                    coef    std err          t      P>|t|      [0.025      0.975]\n",
      "---------------------------------------------------------------------------------------------------------------------------------\n",
      "Intercept                                                        19.9242      0.092    217.484      0.000      19.745      20.104\n",
      "C(Prev_Length)[T.60]                                             -2.9848      0.123    -24.285      0.000      -3.226      -2.744\n",
      "C(Prev_Length)[T.90]                                             -2.5188      0.123    -20.493      0.000      -2.760      -2.278\n",
      "C(Prev_Type)[T.TT]                                               -4.9226      0.116    -42.480      0.000      -5.150      -4.695\n",
      "C(Match_Score)[T.85]                                              0.2831      0.130      2.185      0.029       0.029       0.537\n",
      "C(Match_Score)[T.95]                                              1.2554      0.130      9.690      0.000       1.001       1.509\n",
      "C(Prev_Length)[T.60]:C(Prev_Type)[T.TT]                          -0.2008      0.142     -1.415      0.157      -0.479       0.077\n",
      "C(Prev_Length)[T.90]:C(Prev_Type)[T.TT]                          -0.2749      0.142     -1.937      0.053      -0.553       0.003\n",
      "C(Prev_Length)[T.60]:C(Match_Score)[T.85]                        -1.0884      0.174     -6.261      0.000      -1.429      -0.748\n",
      "C(Prev_Length)[T.90]:C(Match_Score)[T.85]                         1.3940      0.174      8.020      0.000       1.053       1.735\n",
      "C(Prev_Length)[T.60]:C(Match_Score)[T.95]                         0.3979      0.174      2.289      0.022       0.057       0.739\n",
      "C(Prev_Length)[T.90]:C(Match_Score)[T.95]                         3.6065      0.174     20.748      0.000       3.266       3.947\n",
      "C(Prev_Type)[T.TT]:C(Match_Score)[T.85]                          -0.1044      0.164     -0.637      0.524      -0.426       0.217\n",
      "C(Prev_Type)[T.TT]:C(Match_Score)[T.95]                          -0.1136      0.164     -0.693      0.488      -0.435       0.208\n",
      "C(Tile_Size)[T.0.4]:C(Prev_Length)[30]                            0.0785      0.116      0.677      0.498      -0.149       0.306\n",
      "C(Tile_Size)[T.0.4]:C(Prev_Length)[60]                           -0.0292      0.116     -0.252      0.801      -0.256       0.198\n",
      "C(Tile_Size)[T.0.4]:C(Prev_Length)[90]                           -0.0594      0.116     -0.512      0.608      -0.287       0.168\n",
      "C(Tile_Size)[T.0.4]:C(Prev_Type)[T.TT]                            0.1200      0.116      1.035      0.301      -0.107       0.347\n",
      "C(Tile_Size)[T.0.4]:C(Match_Score)[T.85]                         -0.0434      0.164     -0.265      0.791      -0.365       0.278\n",
      "C(Tile_Size)[T.0.4]:C(Match_Score)[T.95]                         -0.2861      0.164     -1.746      0.081      -0.607       0.035\n",
      "C(Prev_Length)[T.60]:C(Prev_Type)[T.TT]:C(Match_Score)[T.85]      0.3093      0.201      1.541      0.123      -0.084       0.703\n",
      "C(Prev_Length)[T.90]:C(Prev_Type)[T.TT]:C(Match_Score)[T.85]      0.1973      0.201      0.983      0.326      -0.196       0.591\n",
      "C(Prev_Length)[T.60]:C(Prev_Type)[T.TT]:C(Match_Score)[T.95]      0.2104      0.201      1.048      0.295      -0.183       0.604\n",
      "C(Prev_Length)[T.90]:C(Prev_Type)[T.TT]:C(Match_Score)[T.95]      0.2501      0.201      1.246      0.213      -0.143       0.644\n",
      "C(Tile_Size)[T.0.4]:C(Prev_Length)[T.60]:C(Match_Score)[T.85]     0.0093      0.201      0.047      0.963      -0.384       0.403\n",
      "C(Tile_Size)[T.0.4]:C(Prev_Length)[T.90]:C(Match_Score)[T.85]     0.0462      0.201      0.230      0.818      -0.347       0.440\n",
      "C(Tile_Size)[T.0.4]:C(Prev_Length)[T.60]:C(Match_Score)[T.95]     0.2856      0.201      1.423      0.155      -0.108       0.679\n",
      "C(Tile_Size)[T.0.4]:C(Prev_Length)[T.90]:C(Match_Score)[T.95]     0.2190      0.201      1.091      0.275      -0.174       0.613\n",
      "C(Tile_Size)[T.0.4]:C(Match_Score)[T.85]:C(Prev_Type)[T.TT]      -0.0288      0.164     -0.176      0.861      -0.350       0.293\n",
      "C(Tile_Size)[T.0.4]:C(Match_Score)[T.95]:C(Prev_Type)[T.TT]       0.0771      0.164      0.471      0.638      -0.244       0.398\n",
      "==============================================================================\n",
      "Omnibus:                        1.160   Durbin-Watson:                   2.025\n",
      "Prob(Omnibus):                  0.560   Jarque-Bera (JB):                1.178\n",
      "Skew:                          -0.006   Prob(JB):                        0.555\n",
      "Kurtosis:                       2.912   Cond. No.                         43.0\n",
      "==============================================================================\n",
      "\n",
      "Notes:\n",
      "[1] Standard Errors assume that the covariance matrix of the errors is correctly specified.\n"
     ]
    }
   ],
   "source": [
    "print(model_red1.summary())"
   ]
  },
  {
   "cell_type": "markdown",
   "metadata": {
    "pycharm": {
     "name": "#%% md\n"
    }
   },
   "source": [
    "## Full Model vs Reduced Model (Only significant interaction terms/main effect terms)"
   ]
  },
  {
   "cell_type": "code",
   "execution_count": 16,
   "metadata": {
    "pycharm": {
     "name": "#%%\n"
    }
   },
   "outputs": [
    {
     "data": {
      "text/html": [
       "<div>\n",
       "<style scoped>\n",
       "    .dataframe tbody tr th:only-of-type {\n",
       "        vertical-align: middle;\n",
       "    }\n",
       "\n",
       "    .dataframe tbody tr th {\n",
       "        vertical-align: top;\n",
       "    }\n",
       "\n",
       "    .dataframe thead th {\n",
       "        text-align: right;\n",
       "    }\n",
       "</style>\n",
       "<table border=\"1\" class=\"dataframe\">\n",
       "  <thead>\n",
       "    <tr style=\"text-align: right;\">\n",
       "      <th></th>\n",
       "      <th>df_resid</th>\n",
       "      <th>ssr</th>\n",
       "      <th>df_diff</th>\n",
       "      <th>ss_diff</th>\n",
       "      <th>F</th>\n",
       "      <th>Pr(&gt;F)</th>\n",
       "    </tr>\n",
       "  </thead>\n",
       "  <tbody>\n",
       "    <tr>\n",
       "      <th>0</th>\n",
       "      <td>3588.0</td>\n",
       "      <td>3608.715549</td>\n",
       "      <td>0.0</td>\n",
       "      <td>NaN</td>\n",
       "      <td>NaN</td>\n",
       "      <td>NaN</td>\n",
       "    </tr>\n",
       "    <tr>\n",
       "      <th>1</th>\n",
       "      <td>3564.0</td>\n",
       "      <td>3589.155148</td>\n",
       "      <td>24.0</td>\n",
       "      <td>19.560401</td>\n",
       "      <td>0.809305</td>\n",
       "      <td>0.728669</td>\n",
       "    </tr>\n",
       "  </tbody>\n",
       "</table>\n",
       "</div>"
      ],
      "text/plain": [
       "   df_resid          ssr  df_diff    ss_diff         F    Pr(>F)\n",
       "0    3588.0  3608.715549      0.0        NaN       NaN       NaN\n",
       "1    3564.0  3589.155148     24.0  19.560401  0.809305  0.728669"
      ]
     },
     "execution_count": 16,
     "metadata": {},
     "output_type": "execute_result"
    }
   ],
   "source": [
    "model_red2 = smf.ols('Browse_Time ~ C(Prev_Length) + C(Prev_Type) + C(Match_Score) + C(Prev_Length):C(Match_Score) + C(Prev_Length):C(Prev_Type)' , data=df1).fit()\n",
    "sm.stats.anova_lm(model_red2, model)"
   ]
  },
  {
   "cell_type": "code",
   "execution_count": 17,
   "metadata": {
    "pycharm": {
     "name": "#%%\n"
    }
   },
   "outputs": [
    {
     "name": "stdout",
     "output_type": "stream",
     "text": [
      "                            OLS Regression Results                            \n",
      "==============================================================================\n",
      "Dep. Variable:            Browse_Time   R-squared:                       0.908\n",
      "Model:                            OLS   Adj. R-squared:                  0.907\n",
      "Method:                 Least Squares   F-statistic:                     3204.\n",
      "Date:                Tue, 18 Jan 2022   Prob (F-statistic):               0.00\n",
      "Time:                        18:14:30   Log-Likelihood:                -5112.5\n",
      "No. Observations:                3600   AIC:                         1.025e+04\n",
      "Df Residuals:                    3588   BIC:                         1.032e+04\n",
      "Df Model:                          11                                         \n",
      "Covariance Type:            nonrobust                                         \n",
      "=============================================================================================================\n",
      "                                                coef    std err          t      P>|t|      [0.025      0.975]\n",
      "-------------------------------------------------------------------------------------------------------------\n",
      "Intercept                                    19.9957      0.058    345.340      0.000      19.882      20.109\n",
      "C(Prev_Length)[T.60]                         -3.1253      0.082    -38.167      0.000      -3.286      -2.965\n",
      "C(Prev_Length)[T.90]                         -2.6623      0.082    -32.513      0.000      -2.823      -2.502\n",
      "C(Prev_Type)[T.TT]                           -4.9272      0.058    -85.097      0.000      -5.041      -4.814\n",
      "C(Match_Score)[T.85]                          0.2020      0.071      2.849      0.004       0.063       0.341\n",
      "C(Match_Score)[T.95]                          1.0748      0.071     15.157      0.000       0.936       1.214\n",
      "C(Prev_Length)[T.60]:C(Match_Score)[T.85]    -0.9290      0.100     -9.263      0.000      -1.126      -0.732\n",
      "C(Prev_Length)[T.90]:C(Match_Score)[T.85]     1.5158      0.100     15.114      0.000       1.319       1.712\n",
      "C(Prev_Length)[T.60]:C(Match_Score)[T.95]     0.6459      0.100      6.441      0.000       0.449       0.843\n",
      "C(Prev_Length)[T.90]:C(Match_Score)[T.95]     3.8411      0.100     38.301      0.000       3.644       4.038\n",
      "C(Prev_Length)[T.60]:C(Prev_Type)[T.TT]      -0.0276      0.082     -0.337      0.736      -0.188       0.133\n",
      "C(Prev_Length)[T.90]:C(Prev_Type)[T.TT]      -0.1258      0.082     -1.536      0.125      -0.286       0.035\n",
      "==============================================================================\n",
      "Omnibus:                        0.876   Durbin-Watson:                   2.025\n",
      "Prob(Omnibus):                  0.645   Jarque-Bera (JB):                0.913\n",
      "Skew:                          -0.003   Prob(JB):                        0.634\n",
      "Kurtosis:                       2.922   Cond. No.                         15.7\n",
      "==============================================================================\n",
      "\n",
      "Notes:\n",
      "[1] Standard Errors assume that the covariance matrix of the errors is correctly specified.\n"
     ]
    }
   ],
   "source": [
    "print(model_red2.summary())"
   ]
  },
  {
   "cell_type": "markdown",
   "metadata": {
    "pycharm": {
     "name": "#%% md\n"
    }
   },
   "source": [
    "## Previous model vs removing \"Prev_Length:Prev_Type\""
   ]
  },
  {
   "cell_type": "code",
   "execution_count": 18,
   "metadata": {
    "pycharm": {
     "name": "#%%\n"
    }
   },
   "outputs": [
    {
     "data": {
      "text/html": [
       "<div>\n",
       "<style scoped>\n",
       "    .dataframe tbody tr th:only-of-type {\n",
       "        vertical-align: middle;\n",
       "    }\n",
       "\n",
       "    .dataframe tbody tr th {\n",
       "        vertical-align: top;\n",
       "    }\n",
       "\n",
       "    .dataframe thead th {\n",
       "        text-align: right;\n",
       "    }\n",
       "</style>\n",
       "<table border=\"1\" class=\"dataframe\">\n",
       "  <thead>\n",
       "    <tr style=\"text-align: right;\">\n",
       "      <th></th>\n",
       "      <th>df_resid</th>\n",
       "      <th>ssr</th>\n",
       "      <th>df_diff</th>\n",
       "      <th>ss_diff</th>\n",
       "      <th>F</th>\n",
       "      <th>Pr(&gt;F)</th>\n",
       "    </tr>\n",
       "  </thead>\n",
       "  <tbody>\n",
       "    <tr>\n",
       "      <th>0</th>\n",
       "      <td>3590.0</td>\n",
       "      <td>3611.338161</td>\n",
       "      <td>0.0</td>\n",
       "      <td>NaN</td>\n",
       "      <td>NaN</td>\n",
       "      <td>NaN</td>\n",
       "    </tr>\n",
       "    <tr>\n",
       "      <th>1</th>\n",
       "      <td>3588.0</td>\n",
       "      <td>3608.715549</td>\n",
       "      <td>2.0</td>\n",
       "      <td>2.622612</td>\n",
       "      <td>1.303779</td>\n",
       "      <td>0.271633</td>\n",
       "    </tr>\n",
       "  </tbody>\n",
       "</table>\n",
       "</div>"
      ],
      "text/plain": [
       "   df_resid          ssr  df_diff   ss_diff         F    Pr(>F)\n",
       "0    3590.0  3611.338161      0.0       NaN       NaN       NaN\n",
       "1    3588.0  3608.715549      2.0  2.622612  1.303779  0.271633"
      ]
     },
     "execution_count": 18,
     "metadata": {},
     "output_type": "execute_result"
    }
   ],
   "source": [
    "model_red3 = smf.ols('Browse_Time ~ C(Prev_Length) + C(Prev_Type) + C(Match_Score) + C(Prev_Length):C(Match_Score)' , data=df1).fit()\n",
    "sm.stats.anova_lm(model_red3, model_red2)"
   ]
  },
  {
   "cell_type": "code",
   "execution_count": 19,
   "metadata": {
    "pycharm": {
     "name": "#%%\n"
    }
   },
   "outputs": [
    {
     "name": "stdout",
     "output_type": "stream",
     "text": [
      "                            OLS Regression Results                            \n",
      "==============================================================================\n",
      "Dep. Variable:            Browse_Time   R-squared:                       0.908\n",
      "Model:                            OLS   Adj. R-squared:                  0.907\n",
      "Method:                 Least Squares   F-statistic:                     3916.\n",
      "Date:                Tue, 18 Jan 2022   Prob (F-statistic):               0.00\n",
      "Time:                        18:14:31   Log-Likelihood:                -5113.8\n",
      "No. Observations:                3600   AIC:                         1.025e+04\n",
      "Df Residuals:                    3590   BIC:                         1.031e+04\n",
      "Df Model:                           9                                         \n",
      "Covariance Type:            nonrobust                                         \n",
      "=============================================================================================================\n",
      "                                                coef    std err          t      P>|t|      [0.025      0.975]\n",
      "-------------------------------------------------------------------------------------------------------------\n",
      "Intercept                                    20.0213      0.053    378.753      0.000      19.918      20.125\n",
      "C(Prev_Length)[T.60]                         -3.1391      0.071    -44.262      0.000      -3.278      -3.000\n",
      "C(Prev_Length)[T.90]                         -2.7252      0.071    -38.426      0.000      -2.864      -2.586\n",
      "C(Prev_Type)[T.TT]                           -4.9784      0.033   -148.909      0.000      -5.044      -4.913\n",
      "C(Match_Score)[T.85]                          0.2020      0.071      2.849      0.004       0.063       0.341\n",
      "C(Match_Score)[T.95]                          1.0748      0.071     15.156      0.000       0.936       1.214\n",
      "C(Prev_Length)[T.60]:C(Match_Score)[T.85]    -0.9290      0.100     -9.263      0.000      -1.126      -0.732\n",
      "C(Prev_Length)[T.90]:C(Match_Score)[T.85]     1.5158      0.100     15.113      0.000       1.319       1.712\n",
      "C(Prev_Length)[T.60]:C(Match_Score)[T.95]     0.6459      0.100      6.440      0.000       0.449       0.843\n",
      "C(Prev_Length)[T.90]:C(Match_Score)[T.95]     3.8411      0.100     38.297      0.000       3.644       4.038\n",
      "==============================================================================\n",
      "Omnibus:                        0.790   Durbin-Watson:                   2.024\n",
      "Prob(Omnibus):                  0.674   Jarque-Bera (JB):                0.831\n",
      "Skew:                          -0.001   Prob(JB):                        0.660\n",
      "Kurtosis:                       2.926   Cond. No.                         15.1\n",
      "==============================================================================\n",
      "\n",
      "Notes:\n",
      "[1] Standard Errors assume that the covariance matrix of the errors is correctly specified.\n"
     ]
    }
   ],
   "source": [
    "print(model_red3.summary())"
   ]
  },
  {
   "cell_type": "markdown",
   "metadata": {
    "pycharm": {
     "name": "#%% md\n"
    }
   },
   "source": [
    "'Browse_Time ~ C(Prev_Length) + C(Prev_Type) + C(Match_Score) + C(Prev_Length):C(Match_Score)' include all significant terms. This will be our model"
   ]
  },
  {
   "cell_type": "markdown",
   "metadata": {
    "pycharm": {
     "name": "#%% md\n"
    }
   },
   "source": [
    "# Pair-Wise Testing"
   ]
  },
  {
   "cell_type": "markdown",
   "metadata": {
    "pycharm": {
     "name": "#%% md\n"
    }
   },
   "source": [
    "## Select Best Conditions"
   ]
  },
  {
   "cell_type": "code",
   "execution_count": 143,
   "metadata": {},
   "outputs": [],
   "source": [
    "df = df.rename(columns={\"Prev.Length\": \"x1\", \"Match.Score\": \"x2\",\"Tile.Size\": \"x3\", \"Prev.Type\": \"x4\",\"Browse.Time\":'y'})"
   ]
  },
  {
   "cell_type": "code",
   "execution_count": 144,
   "metadata": {
    "pycharm": {
     "name": "#%%\n"
    }
   },
   "outputs": [
    {
     "data": {
      "text/html": [
       "<div>\n",
       "<style scoped>\n",
       "    .dataframe tbody tr th:only-of-type {\n",
       "        vertical-align: middle;\n",
       "    }\n",
       "\n",
       "    .dataframe tbody tr th {\n",
       "        vertical-align: top;\n",
       "    }\n",
       "\n",
       "    .dataframe thead th {\n",
       "        text-align: right;\n",
       "    }\n",
       "</style>\n",
       "<table border=\"1\" class=\"dataframe\">\n",
       "  <thead>\n",
       "    <tr style=\"text-align: right;\">\n",
       "      <th></th>\n",
       "      <th>x1</th>\n",
       "      <th>x4</th>\n",
       "      <th>x2</th>\n",
       "      <th>x3</th>\n",
       "      <th>Browse.Time_mean</th>\n",
       "    </tr>\n",
       "  </thead>\n",
       "  <tbody>\n",
       "    <tr>\n",
       "      <th>0</th>\n",
       "      <td>30</td>\n",
       "      <td>AC</td>\n",
       "      <td>70</td>\n",
       "      <td>0.2</td>\n",
       "      <td>19.906158</td>\n",
       "    </tr>\n",
       "    <tr>\n",
       "      <th>1</th>\n",
       "      <td>30</td>\n",
       "      <td>AC</td>\n",
       "      <td>70</td>\n",
       "      <td>0.4</td>\n",
       "      <td>20.020658</td>\n",
       "    </tr>\n",
       "    <tr>\n",
       "      <th>2</th>\n",
       "      <td>30</td>\n",
       "      <td>AC</td>\n",
       "      <td>85</td>\n",
       "      <td>0.2</td>\n",
       "      <td>20.150215</td>\n",
       "    </tr>\n",
       "    <tr>\n",
       "      <th>3</th>\n",
       "      <td>30</td>\n",
       "      <td>AC</td>\n",
       "      <td>85</td>\n",
       "      <td>0.4</td>\n",
       "      <td>20.299392</td>\n",
       "    </tr>\n",
       "    <tr>\n",
       "      <th>4</th>\n",
       "      <td>30</td>\n",
       "      <td>AC</td>\n",
       "      <td>95</td>\n",
       "      <td>0.2</td>\n",
       "      <td>21.137823</td>\n",
       "    </tr>\n",
       "    <tr>\n",
       "      <th>5</th>\n",
       "      <td>30</td>\n",
       "      <td>AC</td>\n",
       "      <td>95</td>\n",
       "      <td>0.4</td>\n",
       "      <td>21.013685</td>\n",
       "    </tr>\n",
       "    <tr>\n",
       "      <th>6</th>\n",
       "      <td>30</td>\n",
       "      <td>TT</td>\n",
       "      <td>70</td>\n",
       "      <td>0.2</td>\n",
       "      <td>15.019525</td>\n",
       "    </tr>\n",
       "    <tr>\n",
       "      <th>7</th>\n",
       "      <td>30</td>\n",
       "      <td>TT</td>\n",
       "      <td>70</td>\n",
       "      <td>0.4</td>\n",
       "      <td>15.181988</td>\n",
       "    </tr>\n",
       "    <tr>\n",
       "      <th>8</th>\n",
       "      <td>30</td>\n",
       "      <td>TT</td>\n",
       "      <td>85</td>\n",
       "      <td>0.2</td>\n",
       "      <td>15.237264</td>\n",
       "    </tr>\n",
       "    <tr>\n",
       "      <th>9</th>\n",
       "      <td>30</td>\n",
       "      <td>TT</td>\n",
       "      <td>85</td>\n",
       "      <td>0.4</td>\n",
       "      <td>15.249539</td>\n",
       "    </tr>\n",
       "    <tr>\n",
       "      <th>10</th>\n",
       "      <td>30</td>\n",
       "      <td>TT</td>\n",
       "      <td>95</td>\n",
       "      <td>0.2</td>\n",
       "      <td>16.185030</td>\n",
       "    </tr>\n",
       "    <tr>\n",
       "      <th>11</th>\n",
       "      <td>30</td>\n",
       "      <td>TT</td>\n",
       "      <td>95</td>\n",
       "      <td>0.4</td>\n",
       "      <td>16.091153</td>\n",
       "    </tr>\n",
       "    <tr>\n",
       "      <th>12</th>\n",
       "      <td>60</td>\n",
       "      <td>AC</td>\n",
       "      <td>70</td>\n",
       "      <td>0.2</td>\n",
       "      <td>16.911366</td>\n",
       "    </tr>\n",
       "    <tr>\n",
       "      <th>13</th>\n",
       "      <td>60</td>\n",
       "      <td>AC</td>\n",
       "      <td>70</td>\n",
       "      <td>0.4</td>\n",
       "      <td>16.938059</td>\n",
       "    </tr>\n",
       "    <tr>\n",
       "      <th>14</th>\n",
       "      <td>60</td>\n",
       "      <td>AC</td>\n",
       "      <td>85</td>\n",
       "      <td>0.2</td>\n",
       "      <td>16.193737</td>\n",
       "    </tr>\n",
       "    <tr>\n",
       "      <th>15</th>\n",
       "      <td>60</td>\n",
       "      <td>AC</td>\n",
       "      <td>85</td>\n",
       "      <td>0.4</td>\n",
       "      <td>16.011100</td>\n",
       "    </tr>\n",
       "    <tr>\n",
       "      <th>16</th>\n",
       "      <td>60</td>\n",
       "      <td>AC</td>\n",
       "      <td>95</td>\n",
       "      <td>0.2</td>\n",
       "      <td>18.653062</td>\n",
       "    </tr>\n",
       "    <tr>\n",
       "      <th>17</th>\n",
       "      <td>60</td>\n",
       "      <td>AC</td>\n",
       "      <td>95</td>\n",
       "      <td>0.4</td>\n",
       "      <td>18.502495</td>\n",
       "    </tr>\n",
       "    <tr>\n",
       "      <th>18</th>\n",
       "      <td>60</td>\n",
       "      <td>TT</td>\n",
       "      <td>70</td>\n",
       "      <td>0.2</td>\n",
       "      <td>11.843816</td>\n",
       "    </tr>\n",
       "    <tr>\n",
       "      <th>19</th>\n",
       "      <td>60</td>\n",
       "      <td>TT</td>\n",
       "      <td>70</td>\n",
       "      <td>0.4</td>\n",
       "      <td>11.878654</td>\n",
       "    </tr>\n",
       "    <tr>\n",
       "      <th>20</th>\n",
       "      <td>60</td>\n",
       "      <td>TT</td>\n",
       "      <td>85</td>\n",
       "      <td>0.2</td>\n",
       "      <td>11.155854</td>\n",
       "    </tr>\n",
       "    <tr>\n",
       "      <th>21</th>\n",
       "      <td>60</td>\n",
       "      <td>TT</td>\n",
       "      <td>85</td>\n",
       "      <td>0.4</td>\n",
       "      <td>11.303203</td>\n",
       "    </tr>\n",
       "    <tr>\n",
       "      <th>22</th>\n",
       "      <td>60</td>\n",
       "      <td>TT</td>\n",
       "      <td>95</td>\n",
       "      <td>0.2</td>\n",
       "      <td>13.505521</td>\n",
       "    </tr>\n",
       "    <tr>\n",
       "      <th>23</th>\n",
       "      <td>60</td>\n",
       "      <td>TT</td>\n",
       "      <td>95</td>\n",
       "      <td>0.4</td>\n",
       "      <td>13.793823</td>\n",
       "    </tr>\n",
       "    <tr>\n",
       "      <th>24</th>\n",
       "      <td>90</td>\n",
       "      <td>AC</td>\n",
       "      <td>70</td>\n",
       "      <td>0.2</td>\n",
       "      <td>17.451325</td>\n",
       "    </tr>\n",
       "    <tr>\n",
       "      <th>25</th>\n",
       "      <td>90</td>\n",
       "      <td>AC</td>\n",
       "      <td>70</td>\n",
       "      <td>0.4</td>\n",
       "      <td>17.300053</td>\n",
       "    </tr>\n",
       "    <tr>\n",
       "      <th>26</th>\n",
       "      <td>90</td>\n",
       "      <td>AC</td>\n",
       "      <td>85</td>\n",
       "      <td>0.2</td>\n",
       "      <td>19.079790</td>\n",
       "    </tr>\n",
       "    <tr>\n",
       "      <th>27</th>\n",
       "      <td>90</td>\n",
       "      <td>AC</td>\n",
       "      <td>85</td>\n",
       "      <td>0.4</td>\n",
       "      <td>19.028581</td>\n",
       "    </tr>\n",
       "    <tr>\n",
       "      <th>28</th>\n",
       "      <td>90</td>\n",
       "      <td>AC</td>\n",
       "      <td>95</td>\n",
       "      <td>0.2</td>\n",
       "      <td>22.248526</td>\n",
       "    </tr>\n",
       "    <tr>\n",
       "      <th>29</th>\n",
       "      <td>90</td>\n",
       "      <td>AC</td>\n",
       "      <td>95</td>\n",
       "      <td>0.4</td>\n",
       "      <td>22.159599</td>\n",
       "    </tr>\n",
       "    <tr>\n",
       "      <th>30</th>\n",
       "      <td>90</td>\n",
       "      <td>TT</td>\n",
       "      <td>70</td>\n",
       "      <td>0.2</td>\n",
       "      <td>12.161858</td>\n",
       "    </tr>\n",
       "    <tr>\n",
       "      <th>31</th>\n",
       "      <td>90</td>\n",
       "      <td>TT</td>\n",
       "      <td>70</td>\n",
       "      <td>0.4</td>\n",
       "      <td>12.314340</td>\n",
       "    </tr>\n",
       "    <tr>\n",
       "      <th>32</th>\n",
       "      <td>90</td>\n",
       "      <td>TT</td>\n",
       "      <td>85</td>\n",
       "      <td>0.2</td>\n",
       "      <td>13.980531</td>\n",
       "    </tr>\n",
       "    <tr>\n",
       "      <th>33</th>\n",
       "      <td>90</td>\n",
       "      <td>TT</td>\n",
       "      <td>85</td>\n",
       "      <td>0.4</td>\n",
       "      <td>14.009809</td>\n",
       "    </tr>\n",
       "    <tr>\n",
       "      <th>34</th>\n",
       "      <td>90</td>\n",
       "      <td>TT</td>\n",
       "      <td>95</td>\n",
       "      <td>0.2</td>\n",
       "      <td>17.224994</td>\n",
       "    </tr>\n",
       "    <tr>\n",
       "      <th>35</th>\n",
       "      <td>90</td>\n",
       "      <td>TT</td>\n",
       "      <td>95</td>\n",
       "      <td>0.4</td>\n",
       "      <td>17.258198</td>\n",
       "    </tr>\n",
       "  </tbody>\n",
       "</table>\n",
       "</div>"
      ],
      "text/plain": [
       "    x1  x4  x2   x3  Browse.Time_mean\n",
       "0   30  AC  70  0.2         19.906158\n",
       "1   30  AC  70  0.4         20.020658\n",
       "2   30  AC  85  0.2         20.150215\n",
       "3   30  AC  85  0.4         20.299392\n",
       "4   30  AC  95  0.2         21.137823\n",
       "5   30  AC  95  0.4         21.013685\n",
       "6   30  TT  70  0.2         15.019525\n",
       "7   30  TT  70  0.4         15.181988\n",
       "8   30  TT  85  0.2         15.237264\n",
       "9   30  TT  85  0.4         15.249539\n",
       "10  30  TT  95  0.2         16.185030\n",
       "11  30  TT  95  0.4         16.091153\n",
       "12  60  AC  70  0.2         16.911366\n",
       "13  60  AC  70  0.4         16.938059\n",
       "14  60  AC  85  0.2         16.193737\n",
       "15  60  AC  85  0.4         16.011100\n",
       "16  60  AC  95  0.2         18.653062\n",
       "17  60  AC  95  0.4         18.502495\n",
       "18  60  TT  70  0.2         11.843816\n",
       "19  60  TT  70  0.4         11.878654\n",
       "20  60  TT  85  0.2         11.155854\n",
       "21  60  TT  85  0.4         11.303203\n",
       "22  60  TT  95  0.2         13.505521\n",
       "23  60  TT  95  0.4         13.793823\n",
       "24  90  AC  70  0.2         17.451325\n",
       "25  90  AC  70  0.4         17.300053\n",
       "26  90  AC  85  0.2         19.079790\n",
       "27  90  AC  85  0.4         19.028581\n",
       "28  90  AC  95  0.2         22.248526\n",
       "29  90  AC  95  0.4         22.159599\n",
       "30  90  TT  70  0.2         12.161858\n",
       "31  90  TT  70  0.4         12.314340\n",
       "32  90  TT  85  0.2         13.980531\n",
       "33  90  TT  85  0.4         14.009809\n",
       "34  90  TT  95  0.2         17.224994\n",
       "35  90  TT  95  0.4         17.258198"
      ]
     },
     "execution_count": 144,
     "metadata": {},
     "output_type": "execute_result"
    }
   ],
   "source": [
    "dm = df.groupby(list(df.columns.values[:-1]))['y'].mean()\n",
    "dm = dm.reset_index()\n",
    "dm = dm.rename(columns={'y': 'Browse.Time_mean'})\n",
    "dm"
   ]
  },
  {
   "cell_type": "code",
   "execution_count": 145,
   "metadata": {
    "pycharm": {
     "name": "#%%\n"
    }
   },
   "outputs": [],
   "source": [
    "dm_sorted = dm.sort_values(by=['Browse.Time_mean'])\n",
    "dm_sorted.reset_index(inplace=True)\n"
   ]
  },
  {
   "cell_type": "code",
   "execution_count": 146,
   "metadata": {
    "pycharm": {
     "name": "#%%\n"
    }
   },
   "outputs": [
    {
     "data": {
      "text/plain": [
       "Text(0.5, 0, 'Prev.Length (x1)')"
      ]
     },
     "execution_count": 146,
     "metadata": {},
     "output_type": "execute_result"
    },
    {
     "data": {
      "image/png": "[encoded data removed]",
      "text/plain": [
       "<Figure size 432x288 with 1 Axes>"
      ]
     },
     "metadata": {},
     "output_type": "display_data"
    }
   ],
   "source": [
    "# Main effect of Annual Fee (x1)\n",
    "sns.set_theme(style=\"darkgrid\")\n",
    "fig1 = sns.pointplot(x=\"x1\", y=\"Browse.Time_mean\", data=dm_sorted)\n",
    "fig1.set_ylabel(\"Browse.Time_mean\")\n",
    "fig1.set_xlabel(\"Prev.Length (x1)\")\n",
    "#fig1.set_ylim(0.01, 0.04)"
   ]
  },
  {
   "cell_type": "code",
   "execution_count": 147,
   "metadata": {},
   "outputs": [
    {
     "data": {
      "text/plain": [
       "Text(0.5, 0, 'Match.Score (x1)')"
      ]
     },
     "execution_count": 147,
     "metadata": {},
     "output_type": "execute_result"
    },
    {
     "data": {
      "image/png": "[encoded data removed]",
      "text/plain": [
       "<Figure size 432x288 with 1 Axes>"
      ]
     },
     "metadata": {},
     "output_type": "display_data"
    }
   ],
   "source": [
    "# Main effect of Annual Fee (x1)\n",
    "sns.set_theme(style=\"darkgrid\")\n",
    "fig1 = sns.pointplot(x=\"x2\", y=\"Browse.Time_mean\", data=dm_sorted)\n",
    "fig1.set_ylabel(\"Browse.Time_mean\")\n",
    "fig1.set_xlabel(\"Match.Score (x1)\")\n",
    "#fig1.set_ylim(0.01, 0.04)"
   ]
  },
  {
   "cell_type": "code",
   "execution_count": 148,
   "metadata": {},
   "outputs": [
    {
     "data": {
      "text/plain": [
       "Text(0.5, 0, 'Prev.Type (x4)')"
      ]
     },
     "execution_count": 148,
     "metadata": {},
     "output_type": "execute_result"
    },
    {
     "data": {
      "image/png": "[encoded data removed]",
      "text/plain": [
       "<Figure size 432x288 with 1 Axes>"
      ]
     },
     "metadata": {},
     "output_type": "display_data"
    }
   ],
   "source": [
    "# Main effect of Annual Fee (x1)\n",
    "sns.set_theme(style=\"darkgrid\")\n",
    "fig1 = sns.pointplot(x=\"x4\", y=\"Browse.Time_mean\", data=dm_sorted)\n",
    "fig1.set_ylabel(\"Browse.Time_mean\")\n",
    "fig1.set_xlabel(\"Prev.Type (x4)\")\n",
    "#fig1.set_ylim(0.01, 0.04)"
   ]
  },
  {
   "cell_type": "code",
   "execution_count": 149,
   "metadata": {},
   "outputs": [
    {
     "data": {
      "text/plain": [
       "Text(0.5, 0, 'C(Prev_Length)')"
      ]
     },
     "execution_count": 149,
     "metadata": {},
     "output_type": "execute_result"
    },
    {
     "data": {
      "image/png": "[encoded data removed]",
      "text/plain": [
       "<Figure size 432x288 with 1 Axes>"
      ]
     },
     "metadata": {},
     "output_type": "display_data"
    }
   ],
   "source": [
    "# Interaction between x1 and x2\n",
    "sns.set_theme(style=\"darkgrid\")\n",
    "fig12 = sns.pointplot(x=\"x1\", hue=\"x2\", y=\"Browse.Time_mean\", data=dm_sorted)\n",
    "fig12.set_ylabel(\"Browse.Time_mean\")\n",
    "fig12.set_xlabel(\"C(Prev_Length)\")\n"
   ]
  },
  {
   "cell_type": "code",
   "execution_count": 150,
   "metadata": {},
   "outputs": [
    {
     "data": {
      "text/plain": [
       "Text(0.5, 0, 'C(Match_Score)')"
      ]
     },
     "execution_count": 150,
     "metadata": {},
     "output_type": "execute_result"
    },
    {
     "data": {
      "image/png": "[encoded data removed]",
      "text/plain": [
       "<Figure size 432x288 with 1 Axes>"
      ]
     },
     "metadata": {},
     "output_type": "display_data"
    }
   ],
   "source": [
    "# Interaction between x1 and x2\n",
    "sns.set_theme(style=\"darkgrid\")\n",
    "fig12 = sns.pointplot(x=\"x2\", hue=\"x1\", y=\"Browse.Time_mean\", data=dm_sorted)\n",
    "fig12.set_ylabel(\"Browse.Time_mean\")\n",
    "fig12.set_xlabel(\"C(Match_Score)\")"
   ]
  },
  {
   "cell_type": "code",
   "execution_count": 20,
   "metadata": {
    "pycharm": {
     "name": "#%%\n"
    }
   },
   "outputs": [
    {
     "data": {
      "text/plain": [
       "array(['Prev.Length', 'Prev.Type', 'Match.Score', 'Tile.Size'],\n",
       "      dtype=object)"
      ]
     },
     "execution_count": 20,
     "metadata": {},
     "output_type": "execute_result"
    }
   ],
   "source": [
    "df.columns.values[:-1]"
   ]
  },
  {
   "cell_type": "markdown",
   "metadata": {},
   "source": [
    "# Hypothesis Testing"
   ]
  },
  {
   "cell_type": "code",
   "execution_count": 86,
   "metadata": {},
   "outputs": [],
   "source": [
    "cond1 = df[(df['x1']==30)&(df['x2']==70)&(df['x4']=='TT')]\n",
    "cond2 = df[(df['x1']==30)&(df['x2']==85)&(df['x4']=='TT')]\n",
    "cond3 = df[(df['x1']==30)&(df['x2']==95)&(df['x4']=='TT')]\n",
    "cond4 = df[(df['x1']==60)&(df['x2']==70)&(df['x4']=='TT')]\n",
    "cond5 = df[(df['x1']==60)&(df['x2']==85)&(df['x4']=='TT')]\n",
    "cond6 = df[(df['x1']==60)&(df['x2']==95)&(df['x4']=='TT')]\n",
    "cond7 = df[(df['x1']==90)&(df['x2']==70)&(df['x4']=='TT')]\n",
    "cond8 = df[(df['x1']==90)&(df['x2']==85)&(df['x4']=='TT')]\n",
    "cond9 = df[(df['x1']==90)&(df['x2']==95)&(df['x4']=='TT')]"
   ]
  },
  {
   "cell_type": "code",
   "execution_count": 79,
   "metadata": {},
   "outputs": [
    {
     "data": {
      "text/html": [
       "<div>\n",
       "<style scoped>\n",
       "    .dataframe tbody tr th:only-of-type {\n",
       "        vertical-align: middle;\n",
       "    }\n",
       "\n",
       "    .dataframe tbody tr th {\n",
       "        vertical-align: top;\n",
       "    }\n",
       "\n",
       "    .dataframe thead th {\n",
       "        text-align: right;\n",
       "    }\n",
       "</style>\n",
       "<table border=\"1\" class=\"dataframe\">\n",
       "  <thead>\n",
       "    <tr style=\"text-align: right;\">\n",
       "      <th></th>\n",
       "      <th>Prev.Length</th>\n",
       "      <th>Match.Score</th>\n",
       "      <th>Tile.Size</th>\n",
       "      <th>Prev.Type</th>\n",
       "      <th>Browse.Time</th>\n",
       "    </tr>\n",
       "  </thead>\n",
       "  <tbody>\n",
       "    <tr>\n",
       "      <th>0</th>\n",
       "      <td>60</td>\n",
       "      <td>75</td>\n",
       "      <td>0.2</td>\n",
       "      <td>TT</td>\n",
       "      <td>13.325328</td>\n",
       "    </tr>\n",
       "    <tr>\n",
       "      <th>1</th>\n",
       "      <td>60</td>\n",
       "      <td>90</td>\n",
       "      <td>0.2</td>\n",
       "      <td>TT</td>\n",
       "      <td>13.919920</td>\n",
       "    </tr>\n",
       "    <tr>\n",
       "      <th>2</th>\n",
       "      <td>50</td>\n",
       "      <td>85</td>\n",
       "      <td>0.2</td>\n",
       "      <td>TT</td>\n",
       "      <td>13.202504</td>\n",
       "    </tr>\n",
       "    <tr>\n",
       "      <th>3</th>\n",
       "      <td>70</td>\n",
       "      <td>85</td>\n",
       "      <td>0.2</td>\n",
       "      <td>TT</td>\n",
       "      <td>12.281604</td>\n",
       "    </tr>\n",
       "    <tr>\n",
       "      <th>4</th>\n",
       "      <td>60</td>\n",
       "      <td>75</td>\n",
       "      <td>0.2</td>\n",
       "      <td>TT</td>\n",
       "      <td>13.206069</td>\n",
       "    </tr>\n",
       "    <tr>\n",
       "      <th>...</th>\n",
       "      <td>...</td>\n",
       "      <td>...</td>\n",
       "      <td>...</td>\n",
       "      <td>...</td>\n",
       "      <td>...</td>\n",
       "    </tr>\n",
       "    <tr>\n",
       "      <th>395</th>\n",
       "      <td>70</td>\n",
       "      <td>85</td>\n",
       "      <td>0.2</td>\n",
       "      <td>TT</td>\n",
       "      <td>12.105020</td>\n",
       "    </tr>\n",
       "    <tr>\n",
       "      <th>396</th>\n",
       "      <td>60</td>\n",
       "      <td>75</td>\n",
       "      <td>0.2</td>\n",
       "      <td>TT</td>\n",
       "      <td>11.991356</td>\n",
       "    </tr>\n",
       "    <tr>\n",
       "      <th>397</th>\n",
       "      <td>60</td>\n",
       "      <td>90</td>\n",
       "      <td>0.2</td>\n",
       "      <td>TT</td>\n",
       "      <td>11.274822</td>\n",
       "    </tr>\n",
       "    <tr>\n",
       "      <th>398</th>\n",
       "      <td>50</td>\n",
       "      <td>85</td>\n",
       "      <td>0.2</td>\n",
       "      <td>TT</td>\n",
       "      <td>10.338589</td>\n",
       "    </tr>\n",
       "    <tr>\n",
       "      <th>399</th>\n",
       "      <td>70</td>\n",
       "      <td>85</td>\n",
       "      <td>0.2</td>\n",
       "      <td>TT</td>\n",
       "      <td>12.922831</td>\n",
       "    </tr>\n",
       "  </tbody>\n",
       "</table>\n",
       "<p>400 rows × 5 columns</p>\n",
       "</div>"
      ],
      "text/plain": [
       "     Prev.Length  Match.Score  Tile.Size Prev.Type  Browse.Time\n",
       "0             60           75        0.2        TT    13.325328\n",
       "1             60           90        0.2        TT    13.919920\n",
       "2             50           85        0.2        TT    13.202504\n",
       "3             70           85        0.2        TT    12.281604\n",
       "4             60           75        0.2        TT    13.206069\n",
       "..           ...          ...        ...       ...          ...\n",
       "395           70           85        0.2        TT    12.105020\n",
       "396           60           75        0.2        TT    11.991356\n",
       "397           60           90        0.2        TT    11.274822\n",
       "398           50           85        0.2        TT    10.338589\n",
       "399           70           85        0.2        TT    12.922831\n",
       "\n",
       "[400 rows x 5 columns]"
      ]
     },
     "execution_count": 79,
     "metadata": {},
     "output_type": "execute_result"
    }
   ],
   "source": [
    "df_new = pd.read_csv('RESULTS_THIRTEEN_2022-01-19.csv')\n",
    "df_new"
   ]
  },
  {
   "cell_type": "code",
   "execution_count": 122,
   "metadata": {},
   "outputs": [],
   "source": [
    "cond10 = df_new[(df_new['Prev.Length']==60)&(df_new['Match.Score']==75)]\n",
    "cond11 = df_new[(df_new['Prev.Length']==60)&(df_new['Match.Score']==90)]\n",
    "cond12 = df_new[(df_new['Prev.Length']==50)&(df_new['Match.Score']==85)]\n",
    "cond13 = df_new[(df_new['Prev.Length']==70)&(df_new['Match.Score']==85)]"
   ]
  },
  {
   "cell_type": "code",
   "execution_count": 87,
   "metadata": {},
   "outputs": [
    {
     "name": "stdout",
     "output_type": "stream",
     "text": [
      "15.100756156509611\n",
      "15.243401169358778\n",
      "16.138091770318095\n",
      "11.861234631385305\n",
      "11.229528534167637\n",
      "13.649672212203729\n",
      "12.238098890911331\n",
      "13.995170012742303\n",
      "17.241595544084745\n"
     ]
    }
   ],
   "source": [
    "print(cond1['y'].mean())\n",
    "print(cond2['y'].mean())\n",
    "print(cond3['y'].mean())\n",
    "print(cond4['y'].mean())\n",
    "print(cond5['y'].mean())\n",
    "print(cond6['y'].mean())\n",
    "print(cond7['y'].mean())\n",
    "print(cond8['y'].mean())\n",
    "print(cond9['y'].mean())"
   ]
  },
  {
   "cell_type": "code",
   "execution_count": 124,
   "metadata": {},
   "outputs": [
    {
     "name": "stdout",
     "output_type": "stream",
     "text": [
      "t = 0.9572925782975895\n",
      "p-value = 0.33919557448558846\n"
     ]
    }
   ],
   "source": [
    "t, pv = stats.ttest_ind(cond5['y'], cond13['Browse.Time'], equal_var = True, alternative = 'two-sided')\n",
    "print(\"t =\", t)\n",
    "print(\"p-value =\", pv)"
   ]
  },
  {
   "cell_type": "markdown",
   "metadata": {},
   "source": [
    "## Cond5 == Cond13"
   ]
  },
  {
   "cell_type": "code",
   "execution_count": 126,
   "metadata": {},
   "outputs": [
    {
     "name": "stdout",
     "output_type": "stream",
     "text": [
      "t = -3.536328298946229\n",
      "p-value = 0.9997648474588269\n"
     ]
    }
   ],
   "source": [
    "t, pv = stats.ttest_ind(cond5['y'], cond10['Browse.Time'], equal_var = True, alternative = 'greater')\n",
    "print(\"t =\", t)\n",
    "print(\"p-value =\", pv)"
   ]
  },
  {
   "cell_type": "markdown",
   "metadata": {},
   "source": [
    "## Cond5 <= Cond10"
   ]
  },
  {
   "cell_type": "code",
   "execution_count": 129,
   "metadata": {},
   "outputs": [],
   "source": [
    "cond14 = pd.read_csv('RESULTS_THIRTEEN_2022-01-19copy.csv')"
   ]
  },
  {
   "cell_type": "code",
   "execution_count": 130,
   "metadata": {},
   "outputs": [
    {
     "data": {
      "text/plain": [
       "12.046233625627062"
      ]
     },
     "execution_count": 130,
     "metadata": {},
     "output_type": "execute_result"
    }
   ],
   "source": [
    "cond14['Browse.Time'].mean()"
   ]
  },
  {
   "cell_type": "code",
   "execution_count": 131,
   "metadata": {},
   "outputs": [
    {
     "name": "stdout",
     "output_type": "stream",
     "text": [
      "t = -6.820150950494921\n",
      "p-value = 0.9999999999461371\n"
     ]
    }
   ],
   "source": [
    "t, pv = stats.ttest_ind(cond13['Browse.Time'], cond14['Browse.Time'], equal_var = True, alternative = 'greater')\n",
    "print(\"t =\", t)\n",
    "print(\"p-value =\", pv)"
   ]
  },
  {
   "cell_type": "markdown",
   "metadata": {},
   "source": [
    "## Cond13 <= Cond14"
   ]
  },
  {
   "cell_type": "code",
   "execution_count": 135,
   "metadata": {},
   "outputs": [],
   "source": [
    "cond15 = pd.read_csv('75.csv')"
   ]
  },
  {
   "cell_type": "code",
   "execution_count": 136,
   "metadata": {},
   "outputs": [
    {
     "data": {
      "text/plain": [
       "11.342581917800404"
      ]
     },
     "execution_count": 136,
     "metadata": {},
     "output_type": "execute_result"
    }
   ],
   "source": [
    "cond15['Browse.Time'].mean()"
   ]
  },
  {
   "cell_type": "code",
   "execution_count": 137,
   "metadata": {},
   "outputs": [
    {
     "name": "stdout",
     "output_type": "stream",
     "text": [
      "t = -1.6188946206380777\n",
      "p-value = 0.9464691543822492\n"
     ]
    }
   ],
   "source": [
    "t, pv = stats.ttest_ind(cond13['Browse.Time'], cond15['Browse.Time'], equal_var = True, alternative = 'greater')\n",
    "print(\"t =\", t)\n",
    "print(\"p-value =\", pv)"
   ]
  },
  {
   "cell_type": "markdown",
   "metadata": {},
   "source": [
    "## Cond13 <= Cond15"
   ]
  },
  {
   "cell_type": "code",
   "execution_count": 112,
   "metadata": {},
   "outputs": [],
   "source": [
    "df_4 = pd.read_csv('8088.csv')"
   ]
  },
  {
   "cell_type": "code",
   "execution_count": 138,
   "metadata": {},
   "outputs": [],
   "source": [
    "cond16 = df_4[(df_4['Prev.Length']==70)&(df_4['Match.Score']==80)]\n",
    "cond17 = df_4[(df_4['Prev.Length']==70)&(df_4['Match.Score']==88)]"
   ]
  },
  {
   "cell_type": "code",
   "execution_count": 139,
   "metadata": {},
   "outputs": [
    {
     "name": "stdout",
     "output_type": "stream",
     "text": [
      "10.697056614156761\n",
      "11.777405152502611\n"
     ]
    }
   ],
   "source": [
    "print(cond16['Browse.Time'].mean())\n",
    "print(cond17['Browse.Time'].mean())"
   ]
  },
  {
   "cell_type": "code",
   "execution_count": 141,
   "metadata": {},
   "outputs": [
    {
     "name": "stdout",
     "output_type": "stream",
     "text": [
      "t = 3.037176430829037\n",
      "p-value = 0.0013548097660188803\n"
     ]
    }
   ],
   "source": [
    "t, pv = stats.ttest_ind(cond13['Browse.Time'], cond16['Browse.Time'], equal_var = True, alternative = 'greater')\n",
    "print(\"t =\", t)\n",
    "print(\"p-value =\", pv)"
   ]
  },
  {
   "cell_type": "markdown",
   "metadata": {},
   "source": [
    "## Cond13 > Cond16"
   ]
  },
  {
   "cell_type": "code",
   "execution_count": 142,
   "metadata": {},
   "outputs": [
    {
     "name": "stdout",
     "output_type": "stream",
     "text": [
      "15.100756156509611\n",
      "15.243401169358778\n",
      "16.138091770318095\n",
      "11.861234631385305\n",
      "11.229528534167637\n",
      "13.649672212203729\n",
      "12.238098890911331\n",
      "13.995170012742303\n",
      "17.241595544084745\n",
      "11.678501897601448\n",
      "11.940580194110982\n",
      "12.631141561779122\n",
      "11.111406369826634\n",
      "12.046233625627062\n",
      "11.342581917800404\n",
      "10.697056614156761\n",
      "11.777405152502611\n"
     ]
    }
   ],
   "source": [
    "print(cond1['y'].mean())\n",
    "print(cond2['y'].mean())\n",
    "print(cond3['y'].mean())\n",
    "print(cond4['y'].mean())\n",
    "print(cond5['y'].mean())\n",
    "print(cond6['y'].mean())\n",
    "print(cond7['y'].mean())\n",
    "print(cond8['y'].mean())\n",
    "print(cond9['y'].mean())\n",
    "print(cond10['Browse.Time'].mean())\n",
    "print(cond11['Browse.Time'].mean())\n",
    "print(cond12['Browse.Time'].mean())\n",
    "print(cond13['Browse.Time'].mean())\n",
    "print(cond14['Browse.Time'].mean())\n",
    "print(cond15['Browse.Time'].mean())\n",
    "print(cond16['Browse.Time'].mean())\n",
    "print(cond17['Browse.Time'].mean())"
   ]
  },
  {
   "cell_type": "code",
   "execution_count": null,
   "metadata": {},
   "outputs": [],
   "source": []
  }
 ],
 "metadata": {
  "kernelspec": {
   "display_name": "Python 3",
   "language": "python",
   "name": "python3"
  },
  "language_info": {
   "codemirror_mode": {
    "name": "ipython",
    "version": 3
   },
   "file_extension": ".py",
   "mimetype": "text/x-python",
   "name": "python",
   "nbconvert_exporter": "python",
   "pygments_lexer": "ipython3",
   "version": "3.8.8"
  }
 },
 "nbformat": 4,
 "nbformat_minor": 1
}
